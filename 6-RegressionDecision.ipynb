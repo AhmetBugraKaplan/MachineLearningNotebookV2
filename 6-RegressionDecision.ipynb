{
 "cells": [
  {
   "cell_type": "code",
   "execution_count": 1,
   "id": "ab3e987a-0855-477b-bef7-07a02beb2a53",
   "metadata": {},
   "outputs": [],
   "source": [
    "# https://github.com/shankarpandala/lazypredict"
   ]
  },
  {
   "cell_type": "code",
   "execution_count": 2,
   "id": "3ec2b528-a461-49e6-9138-85e80e4b662a",
   "metadata": {},
   "outputs": [
    {
     "name": "stderr",
     "output_type": "stream",
     "text": [
      "Erişim engellendi.\n"
     ]
    }
   ],
   "source": [
    "!pip install lazypredict"
   ]
  },
  {
   "cell_type": "code",
   "execution_count": 3,
   "id": "3671e62a-d083-4650-8a2a-eae999629032",
   "metadata": {},
   "outputs": [],
   "source": [
    "from lazypredict.Supervised import LazyRegressor\n",
    "from sklearn import datasets\n",
    "from sklearn.utils import shuffle\n",
    "import numpy as np"
   ]
  },
  {
   "cell_type": "code",
   "execution_count": 4,
   "id": "8e8722e1-03e8-4229-8fc0-2de5e166bc31",
   "metadata": {},
   "outputs": [],
   "source": [
    "diabetes  = datasets.load_diabetes()"
   ]
  },
  {
   "cell_type": "code",
   "execution_count": 5,
   "id": "5ef761bb-c0ee-4a5e-a070-a200b0068a05",
   "metadata": {},
   "outputs": [
    {
     "data": {
      "text/plain": [
       "sklearn.utils._bunch.Bunch"
      ]
     },
     "execution_count": 5,
     "metadata": {},
     "output_type": "execute_result"
    }
   ],
   "source": [
    "type(diabetes)"
   ]
  },
  {
   "cell_type": "code",
   "execution_count": 6,
   "id": "9b60857d-ed38-4471-8874-aea51be64a0b",
   "metadata": {},
   "outputs": [],
   "source": [
    "X, y = shuffle(diabetes.data, diabetes.target, random_state=13)\n",
    "X = X.astype(np.float32)"
   ]
  },
  {
   "cell_type": "code",
   "execution_count": 7,
   "id": "0a0285c8-c86c-4416-ad6f-5e7b715843b8",
   "metadata": {},
   "outputs": [],
   "source": [
    "offset = int(X.shape[0] * 0.9)\n",
    "\n",
    "X_train, y_train = X[:offset], y[:offset]\n",
    "X_test, y_test = X[offset:], y[offset:]"
   ]
  },
  {
   "cell_type": "code",
   "execution_count": 12,
   "id": "dcd57ac4-264b-4bf0-8f7a-ca7363feeb97",
   "metadata": {},
   "outputs": [
    {
     "data": {
      "application/vnd.jupyter.widget-view+json": {
       "model_id": "18ca24ecb4724f42848ed353786c28e2",
       "version_major": 2,
       "version_minor": 0
      },
      "text/plain": [
       "  0%|          | 0/42 [00:00<?, ?it/s]"
      ]
     },
     "metadata": {},
     "output_type": "display_data"
    },
    {
     "name": "stdout",
     "output_type": "stream",
     "text": [
      "[LightGBM] [Info] Auto-choosing col-wise multi-threading, the overhead of testing was 0.000123 seconds.\n",
      "You can set `force_col_wise=true` to remove the overhead.\n",
      "[LightGBM] [Info] Total Bins 640\n",
      "[LightGBM] [Info] Number of data points in the train set: 397, number of used features: 10\n",
      "[LightGBM] [Info] Start training from score 151.722922\n",
      "[LightGBM] [Warning] No further splits with positive gain, best gain: -inf\n",
      "[LightGBM] [Warning] No further splits with positive gain, best gain: -inf\n",
      "[LightGBM] [Warning] No further splits with positive gain, best gain: -inf\n",
      "[LightGBM] [Warning] No further splits with positive gain, best gain: -inf\n",
      "[LightGBM] [Warning] No further splits with positive gain, best gain: -inf\n",
      "[LightGBM] [Warning] No further splits with positive gain, best gain: -inf\n",
      "[LightGBM] [Warning] No further splits with positive gain, best gain: -inf\n",
      "[LightGBM] [Warning] No further splits with positive gain, best gain: -inf\n",
      "[LightGBM] [Warning] No further splits with positive gain, best gain: -inf\n",
      "[LightGBM] [Warning] No further splits with positive gain, best gain: -inf\n",
      "[LightGBM] [Warning] No further splits with positive gain, best gain: -inf\n",
      "[LightGBM] [Warning] No further splits with positive gain, best gain: -inf\n",
      "[LightGBM] [Warning] No further splits with positive gain, best gain: -inf\n",
      "[LightGBM] [Warning] No further splits with positive gain, best gain: -inf\n",
      "[LightGBM] [Warning] No further splits with positive gain, best gain: -inf\n",
      "[LightGBM] [Warning] No further splits with positive gain, best gain: -inf\n",
      "[LightGBM] [Warning] No further splits with positive gain, best gain: -inf\n",
      "[LightGBM] [Warning] No further splits with positive gain, best gain: -inf\n",
      "[LightGBM] [Warning] No further splits with positive gain, best gain: -inf\n",
      "[LightGBM] [Warning] No further splits with positive gain, best gain: -inf\n",
      "[LightGBM] [Warning] No further splits with positive gain, best gain: -inf\n",
      "[LightGBM] [Warning] No further splits with positive gain, best gain: -inf\n",
      "[LightGBM] [Warning] No further splits with positive gain, best gain: -inf\n",
      "[LightGBM] [Warning] No further splits with positive gain, best gain: -inf\n",
      "[LightGBM] [Warning] No further splits with positive gain, best gain: -inf\n",
      "[LightGBM] [Warning] No further splits with positive gain, best gain: -inf\n",
      "[LightGBM] [Warning] No further splits with positive gain, best gain: -inf\n",
      "[LightGBM] [Warning] No further splits with positive gain, best gain: -inf\n",
      "[LightGBM] [Warning] No further splits with positive gain, best gain: -inf\n",
      "[LightGBM] [Warning] No further splits with positive gain, best gain: -inf\n",
      "[LightGBM] [Warning] No further splits with positive gain, best gain: -inf\n",
      "[LightGBM] [Warning] No further splits with positive gain, best gain: -inf\n",
      "[LightGBM] [Warning] No further splits with positive gain, best gain: -inf\n",
      "[LightGBM] [Warning] No further splits with positive gain, best gain: -inf\n",
      "[LightGBM] [Warning] No further splits with positive gain, best gain: -inf\n",
      "[LightGBM] [Warning] No further splits with positive gain, best gain: -inf\n",
      "[LightGBM] [Warning] No further splits with positive gain, best gain: -inf\n",
      "[LightGBM] [Warning] No further splits with positive gain, best gain: -inf\n",
      "[LightGBM] [Warning] No further splits with positive gain, best gain: -inf\n",
      "[LightGBM] [Warning] No further splits with positive gain, best gain: -inf\n",
      "[LightGBM] [Warning] No further splits with positive gain, best gain: -inf\n",
      "[LightGBM] [Warning] No further splits with positive gain, best gain: -inf\n",
      "[LightGBM] [Warning] No further splits with positive gain, best gain: -inf\n",
      "[LightGBM] [Warning] No further splits with positive gain, best gain: -inf\n",
      "[LightGBM] [Warning] No further splits with positive gain, best gain: -inf\n",
      "[LightGBM] [Warning] No further splits with positive gain, best gain: -inf\n",
      "[LightGBM] [Warning] No further splits with positive gain, best gain: -inf\n",
      "[LightGBM] [Warning] No further splits with positive gain, best gain: -inf\n",
      "[LightGBM] [Warning] No further splits with positive gain, best gain: -inf\n",
      "[LightGBM] [Warning] No further splits with positive gain, best gain: -inf\n",
      "[LightGBM] [Warning] No further splits with positive gain, best gain: -inf\n",
      "[LightGBM] [Warning] No further splits with positive gain, best gain: -inf\n",
      "[LightGBM] [Warning] No further splits with positive gain, best gain: -inf\n",
      "[LightGBM] [Warning] No further splits with positive gain, best gain: -inf\n",
      "[LightGBM] [Warning] No further splits with positive gain, best gain: -inf\n",
      "[LightGBM] [Warning] No further splits with positive gain, best gain: -inf\n",
      "[LightGBM] [Warning] No further splits with positive gain, best gain: -inf\n",
      "[LightGBM] [Warning] No further splits with positive gain, best gain: -inf\n",
      "[LightGBM] [Warning] No further splits with positive gain, best gain: -inf\n",
      "[LightGBM] [Warning] No further splits with positive gain, best gain: -inf\n",
      "[LightGBM] [Warning] No further splits with positive gain, best gain: -inf\n",
      "[LightGBM] [Warning] No further splits with positive gain, best gain: -inf\n",
      "[LightGBM] [Warning] No further splits with positive gain, best gain: -inf\n",
      "[LightGBM] [Warning] No further splits with positive gain, best gain: -inf\n",
      "[LightGBM] [Warning] No further splits with positive gain, best gain: -inf\n",
      "[LightGBM] [Warning] No further splits with positive gain, best gain: -inf\n",
      "[LightGBM] [Warning] No further splits with positive gain, best gain: -inf\n",
      "[LightGBM] [Warning] No further splits with positive gain, best gain: -inf\n",
      "[LightGBM] [Warning] No further splits with positive gain, best gain: -inf\n",
      "[LightGBM] [Warning] No further splits with positive gain, best gain: -inf\n",
      "[LightGBM] [Warning] No further splits with positive gain, best gain: -inf\n",
      "[LightGBM] [Warning] No further splits with positive gain, best gain: -inf\n",
      "[LightGBM] [Warning] No further splits with positive gain, best gain: -inf\n",
      "[LightGBM] [Warning] No further splits with positive gain, best gain: -inf\n",
      "[LightGBM] [Warning] No further splits with positive gain, best gain: -inf\n",
      "[LightGBM] [Warning] No further splits with positive gain, best gain: -inf\n",
      "[LightGBM] [Warning] No further splits with positive gain, best gain: -inf\n",
      "[LightGBM] [Warning] No further splits with positive gain, best gain: -inf\n",
      "[LightGBM] [Warning] No further splits with positive gain, best gain: -inf\n",
      "[LightGBM] [Warning] No further splits with positive gain, best gain: -inf\n",
      "[LightGBM] [Warning] No further splits with positive gain, best gain: -inf\n",
      "[LightGBM] [Warning] No further splits with positive gain, best gain: -inf\n",
      "[LightGBM] [Warning] No further splits with positive gain, best gain: -inf\n",
      "[LightGBM] [Warning] No further splits with positive gain, best gain: -inf\n",
      "[LightGBM] [Warning] No further splits with positive gain, best gain: -inf\n",
      "[LightGBM] [Warning] No further splits with positive gain, best gain: -inf\n",
      "[LightGBM] [Warning] No further splits with positive gain, best gain: -inf\n",
      "[LightGBM] [Warning] No further splits with positive gain, best gain: -inf\n",
      "[LightGBM] [Warning] No further splits with positive gain, best gain: -inf\n",
      "[LightGBM] [Warning] No further splits with positive gain, best gain: -inf\n",
      "[LightGBM] [Warning] No further splits with positive gain, best gain: -inf\n",
      "[LightGBM] [Warning] No further splits with positive gain, best gain: -inf\n",
      "[LightGBM] [Warning] No further splits with positive gain, best gain: -inf\n",
      "[LightGBM] [Warning] No further splits with positive gain, best gain: -inf\n",
      "[LightGBM] [Warning] No further splits with positive gain, best gain: -inf\n",
      "[LightGBM] [Warning] No further splits with positive gain, best gain: -inf\n",
      "[LightGBM] [Warning] No further splits with positive gain, best gain: -inf\n",
      "[LightGBM] [Warning] No further splits with positive gain, best gain: -inf\n",
      "[LightGBM] [Warning] No further splits with positive gain, best gain: -inf\n",
      "[LightGBM] [Warning] No further splits with positive gain, best gain: -inf\n"
     ]
    }
   ],
   "source": [
    "reg = LazyRegressor(verbose=0, ignore_warnings=False, custom_metric=None)\n",
    "models, predictions = reg.fit(X_train, X_test, y_train, y_test)"
   ]
  },
  {
   "cell_type": "code",
   "execution_count": 13,
   "id": "4f4cdbfb-1577-4eda-87b3-a0418393ae1c",
   "metadata": {},
   "outputs": [
    {
     "name": "stdout",
     "output_type": "stream",
     "text": [
      "                               Adjusted R-Squared  R-Squared   RMSE  \\\n",
      "Model                                                                 \n",
      "ExtraTreesRegressor                          0.38       0.52  54.22   \n",
      "OrthogonalMatchingPursuitCV                  0.37       0.52  54.39   \n",
      "Lasso                                        0.37       0.52  54.46   \n",
      "LassoLars                                    0.37       0.52  54.46   \n",
      "LarsCV                                       0.37       0.51  54.54   \n",
      "LassoCV                                      0.37       0.51  54.59   \n",
      "PassiveAggressiveRegressor                   0.37       0.51  54.74   \n",
      "LassoLarsIC                                  0.36       0.51  54.83   \n",
      "SGDRegressor                                 0.36       0.51  54.85   \n",
      "Ridge                                        0.36       0.51  54.91   \n",
      "RidgeCV                                      0.36       0.51  54.91   \n",
      "BayesianRidge                                0.36       0.51  54.94   \n",
      "LassoLarsCV                                  0.36       0.51  54.96   \n",
      "TransformedTargetRegressor                   0.36       0.51  54.96   \n",
      "LinearRegression                             0.36       0.51  54.96   \n",
      "Lars                                         0.36       0.50  55.09   \n",
      "ElasticNetCV                                 0.36       0.50  55.20   \n",
      "HuberRegressor                               0.36       0.50  55.24   \n",
      "RandomForestRegressor                        0.35       0.50  55.48   \n",
      "AdaBoostRegressor                            0.34       0.49  55.88   \n",
      "LGBMRegressor                                0.34       0.49  55.93   \n",
      "HistGradientBoostingRegressor                0.34       0.49  56.08   \n",
      "PoissonRegressor                             0.32       0.48  56.61   \n",
      "ElasticNet                                   0.30       0.46  57.49   \n",
      "KNeighborsRegressor                          0.30       0.46  57.57   \n",
      "OrthogonalMatchingPursuit                    0.29       0.45  57.87   \n",
      "BaggingRegressor                             0.29       0.45  57.92   \n",
      "GradientBoostingRegressor                    0.25       0.42  59.70   \n",
      "TweedieRegressor                             0.24       0.42  59.81   \n",
      "XGBRegressor                                 0.22       0.40  60.60   \n",
      "GammaRegressor                               0.22       0.40  60.61   \n",
      "RANSACRegressor                              0.20       0.38  61.40   \n",
      "LinearSVR                                    0.12       0.32  64.66   \n",
      "ExtraTreeRegressor                           0.00       0.23  68.73   \n",
      "NuSVR                                       -0.07       0.18  71.06   \n",
      "SVR                                         -0.10       0.15  72.04   \n",
      "DummyRegressor                              -0.30      -0.00  78.37   \n",
      "QuantileRegressor                           -0.35      -0.04  79.84   \n",
      "DecisionTreeRegressor                       -0.47      -0.14  83.42   \n",
      "GaussianProcessRegressor                    -0.77      -0.37  91.51   \n",
      "MLPRegressor                                -1.87      -1.22 116.51   \n",
      "KernelRidge                                 -5.04      -3.67 169.06   \n",
      "\n",
      "                               Time Taken  \n",
      "Model                                      \n",
      "ExtraTreesRegressor                  0.21  \n",
      "OrthogonalMatchingPursuitCV          0.01  \n",
      "Lasso                                0.01  \n",
      "LassoLars                            0.01  \n",
      "LarsCV                               0.03  \n",
      "LassoCV                              0.07  \n",
      "PassiveAggressiveRegressor           0.01  \n",
      "LassoLarsIC                          0.01  \n",
      "SGDRegressor                         0.02  \n",
      "Ridge                                0.02  \n",
      "RidgeCV                              0.01  \n",
      "BayesianRidge                        0.01  \n",
      "LassoLarsCV                          0.01  \n",
      "TransformedTargetRegressor           0.01  \n",
      "LinearRegression                     0.01  \n",
      "Lars                                 0.01  \n",
      "ElasticNetCV                         0.04  \n",
      "HuberRegressor                       0.02  \n",
      "RandomForestRegressor                0.32  \n",
      "AdaBoostRegressor                    0.10  \n",
      "LGBMRegressor                        0.04  \n",
      "HistGradientBoostingRegressor        0.20  \n",
      "PoissonRegressor                     0.02  \n",
      "ElasticNet                           0.01  \n",
      "KNeighborsRegressor                  0.01  \n",
      "OrthogonalMatchingPursuit            0.01  \n",
      "BaggingRegressor                     0.06  \n",
      "GradientBoostingRegressor            0.14  \n",
      "TweedieRegressor                     0.01  \n",
      "XGBRegressor                         0.07  \n",
      "GammaRegressor                       0.01  \n",
      "RANSACRegressor                      0.11  \n",
      "LinearSVR                            0.01  \n",
      "ExtraTreeRegressor                   0.01  \n",
      "NuSVR                                0.01  \n",
      "SVR                                  0.02  \n",
      "DummyRegressor                       0.01  \n",
      "QuantileRegressor                    0.03  \n",
      "DecisionTreeRegressor                0.01  \n",
      "GaussianProcessRegressor             0.02  \n",
      "MLPRegressor                         0.29  \n",
      "KernelRidge                          0.01  \n"
     ]
    }
   ],
   "source": [
    "print(models)"
   ]
  },
  {
   "cell_type": "code",
   "execution_count": null,
   "id": "4dda2e53-48a7-45fa-aaf6-b0adc7bcc536",
   "metadata": {},
   "outputs": [],
   "source": []
  }
 ],
 "metadata": {
  "kernelspec": {
   "display_name": "Python [conda env:base] *",
   "language": "python",
   "name": "conda-base-py"
  },
  "language_info": {
   "codemirror_mode": {
    "name": "ipython",
    "version": 3
   },
   "file_extension": ".py",
   "mimetype": "text/x-python",
   "name": "python",
   "nbconvert_exporter": "python",
   "pygments_lexer": "ipython3",
   "version": "3.13.5"
  },
  "widgets": {
   "application/vnd.jupyter.widget-state+json": {
    "state": {
     "091d0b6937e64982b443916cfefe9d1e": {
      "model_module": "@jupyter-widgets/controls",
      "model_module_version": "2.0.0",
      "model_name": "HTMLStyleModel",
      "state": {
       "description_width": "",
       "font_size": null,
       "text_color": null
      }
     },
     "0b386743020e40799a022c3785e36320": {
      "model_module": "@jupyter-widgets/base",
      "model_module_version": "2.0.0",
      "model_name": "LayoutModel",
      "state": {}
     },
     "18ca24ecb4724f42848ed353786c28e2": {
      "model_module": "@jupyter-widgets/controls",
      "model_module_version": "2.0.0",
      "model_name": "HBoxModel",
      "state": {
       "children": [
        "IPY_MODEL_7f1e977b5b0948eda3e74629b0a9d55d",
        "IPY_MODEL_69237bbf95ad4f73bc232df12ca496f4",
        "IPY_MODEL_951e5f8bb8ef480e95a536fec8f3d888"
       ],
       "layout": "IPY_MODEL_f460c1bcf708439a9e121b257303302b"
      }
     },
     "1e2d264ae4c74c5ab97125277c981c70": {
      "model_module": "@jupyter-widgets/base",
      "model_module_version": "2.0.0",
      "model_name": "LayoutModel",
      "state": {}
     },
     "1f2973d5e011460f87fe94fbc55e0182": {
      "model_module": "@jupyter-widgets/controls",
      "model_module_version": "2.0.0",
      "model_name": "HTMLStyleModel",
      "state": {
       "description_width": "",
       "font_size": null,
       "text_color": null
      }
     },
     "219aa06af5d04b51a4f4efaecec3005c": {
      "model_module": "@jupyter-widgets/controls",
      "model_module_version": "2.0.0",
      "model_name": "HBoxModel",
      "state": {
       "children": [
        "IPY_MODEL_2ba0d0ceddeb47f0b6bfac7f66bd8e0e",
        "IPY_MODEL_444af51e075a480d9a75889ca248f0e4",
        "IPY_MODEL_ca0272565c8444c38278d7aba925c983"
       ],
       "layout": "IPY_MODEL_f6dbce933a404ab0b0c099a9b6302d92"
      }
     },
     "28f48ab35f7f4890ae7040d3738b4fd0": {
      "model_module": "@jupyter-widgets/base",
      "model_module_version": "2.0.0",
      "model_name": "LayoutModel",
      "state": {}
     },
     "2ba0d0ceddeb47f0b6bfac7f66bd8e0e": {
      "model_module": "@jupyter-widgets/controls",
      "model_module_version": "2.0.0",
      "model_name": "HTMLModel",
      "state": {
       "layout": "IPY_MODEL_95447fde4c0448479fac487401430cab",
       "style": "IPY_MODEL_6611a284b7104b8380a01540935ecd14",
       "value": "100%"
      }
     },
     "30f0c4240b794c5388a3efdaa2574262": {
      "model_module": "@jupyter-widgets/controls",
      "model_module_version": "2.0.0",
      "model_name": "ProgressStyleModel",
      "state": {
       "description_width": ""
      }
     },
     "32b6d922f9ab4fe9aec7c5cc0c9d5405": {
      "model_module": "@jupyter-widgets/controls",
      "model_module_version": "2.0.0",
      "model_name": "HTMLModel",
      "state": {
       "layout": "IPY_MODEL_f9a9076275f0444c84e6cf6e60c9e9f9",
       "style": "IPY_MODEL_72d488a0bfb34517b811626423f33e97",
       "value": "100%"
      }
     },
     "3ef77fd6a4c84b2b86bddeced61ac978": {
      "model_module": "@jupyter-widgets/base",
      "model_module_version": "2.0.0",
      "model_name": "LayoutModel",
      "state": {}
     },
     "444af51e075a480d9a75889ca248f0e4": {
      "model_module": "@jupyter-widgets/controls",
      "model_module_version": "2.0.0",
      "model_name": "FloatProgressModel",
      "state": {
       "bar_style": "success",
       "layout": "IPY_MODEL_595f4bda1a5143dba28e7e4a58f75997",
       "max": 42,
       "style": "IPY_MODEL_e6dcc7a61afa4d61b7c8a842a9a11783",
       "value": 42
      }
     },
     "5281bb8de9b14c1988d94e1fc40b71e1": {
      "model_module": "@jupyter-widgets/base",
      "model_module_version": "2.0.0",
      "model_name": "LayoutModel",
      "state": {}
     },
     "595f4bda1a5143dba28e7e4a58f75997": {
      "model_module": "@jupyter-widgets/base",
      "model_module_version": "2.0.0",
      "model_name": "LayoutModel",
      "state": {}
     },
     "6611a284b7104b8380a01540935ecd14": {
      "model_module": "@jupyter-widgets/controls",
      "model_module_version": "2.0.0",
      "model_name": "HTMLStyleModel",
      "state": {
       "description_width": "",
       "font_size": null,
       "text_color": null
      }
     },
     "6825be9b459c4084be7fb71f06c8d714": {
      "model_module": "@jupyter-widgets/controls",
      "model_module_version": "2.0.0",
      "model_name": "ProgressStyleModel",
      "state": {
       "description_width": ""
      }
     },
     "69237bbf95ad4f73bc232df12ca496f4": {
      "model_module": "@jupyter-widgets/controls",
      "model_module_version": "2.0.0",
      "model_name": "FloatProgressModel",
      "state": {
       "bar_style": "success",
       "layout": "IPY_MODEL_5281bb8de9b14c1988d94e1fc40b71e1",
       "max": 42,
       "style": "IPY_MODEL_6825be9b459c4084be7fb71f06c8d714",
       "value": 42
      }
     },
     "6eb2273da4ea44feaf19ad9d76801d4c": {
      "model_module": "@jupyter-widgets/controls",
      "model_module_version": "2.0.0",
      "model_name": "HBoxModel",
      "state": {
       "children": [
        "IPY_MODEL_32b6d922f9ab4fe9aec7c5cc0c9d5405",
        "IPY_MODEL_7b669d0714ca4c08ad2959fb889f9003",
        "IPY_MODEL_c84c4ae58f5840d6806191db3f93bd66"
       ],
       "layout": "IPY_MODEL_28f48ab35f7f4890ae7040d3738b4fd0"
      }
     },
     "72d488a0bfb34517b811626423f33e97": {
      "model_module": "@jupyter-widgets/controls",
      "model_module_version": "2.0.0",
      "model_name": "HTMLStyleModel",
      "state": {
       "description_width": "",
       "font_size": null,
       "text_color": null
      }
     },
     "7b669d0714ca4c08ad2959fb889f9003": {
      "model_module": "@jupyter-widgets/controls",
      "model_module_version": "2.0.0",
      "model_name": "FloatProgressModel",
      "state": {
       "bar_style": "success",
       "layout": "IPY_MODEL_3ef77fd6a4c84b2b86bddeced61ac978",
       "max": 42,
       "style": "IPY_MODEL_30f0c4240b794c5388a3efdaa2574262",
       "value": 42
      }
     },
     "7f1e977b5b0948eda3e74629b0a9d55d": {
      "model_module": "@jupyter-widgets/controls",
      "model_module_version": "2.0.0",
      "model_name": "HTMLModel",
      "state": {
       "layout": "IPY_MODEL_a00a676ff9fc4d0fa74df3715f601ad7",
       "style": "IPY_MODEL_1f2973d5e011460f87fe94fbc55e0182",
       "value": "100%"
      }
     },
     "8bb7fc8a24e4499b8e4b6dc909722352": {
      "model_module": "@jupyter-widgets/controls",
      "model_module_version": "2.0.0",
      "model_name": "HTMLStyleModel",
      "state": {
       "description_width": "",
       "font_size": null,
       "text_color": null
      }
     },
     "94f76c02664640969490d708cde84d3a": {
      "model_module": "@jupyter-widgets/controls",
      "model_module_version": "2.0.0",
      "model_name": "HTMLStyleModel",
      "state": {
       "description_width": "",
       "font_size": null,
       "text_color": null
      }
     },
     "951e5f8bb8ef480e95a536fec8f3d888": {
      "model_module": "@jupyter-widgets/controls",
      "model_module_version": "2.0.0",
      "model_name": "HTMLModel",
      "state": {
       "layout": "IPY_MODEL_1e2d264ae4c74c5ab97125277c981c70",
       "style": "IPY_MODEL_091d0b6937e64982b443916cfefe9d1e",
       "value": " 42/42 [00:02&lt;00:00, 21.39it/s]"
      }
     },
     "95447fde4c0448479fac487401430cab": {
      "model_module": "@jupyter-widgets/base",
      "model_module_version": "2.0.0",
      "model_name": "LayoutModel",
      "state": {}
     },
     "a00a676ff9fc4d0fa74df3715f601ad7": {
      "model_module": "@jupyter-widgets/base",
      "model_module_version": "2.0.0",
      "model_name": "LayoutModel",
      "state": {}
     },
     "c84c4ae58f5840d6806191db3f93bd66": {
      "model_module": "@jupyter-widgets/controls",
      "model_module_version": "2.0.0",
      "model_name": "HTMLModel",
      "state": {
       "layout": "IPY_MODEL_0b386743020e40799a022c3785e36320",
       "style": "IPY_MODEL_94f76c02664640969490d708cde84d3a",
       "value": " 42/42 [00:02&lt;00:00, 19.12it/s]"
      }
     },
     "ca0272565c8444c38278d7aba925c983": {
      "model_module": "@jupyter-widgets/controls",
      "model_module_version": "2.0.0",
      "model_name": "HTMLModel",
      "state": {
       "layout": "IPY_MODEL_f3cf65680ac04a1881b927fd3d08a5e4",
       "style": "IPY_MODEL_8bb7fc8a24e4499b8e4b6dc909722352",
       "value": " 42/42 [00:02&lt;00:00, 16.53it/s]"
      }
     },
     "e6dcc7a61afa4d61b7c8a842a9a11783": {
      "model_module": "@jupyter-widgets/controls",
      "model_module_version": "2.0.0",
      "model_name": "ProgressStyleModel",
      "state": {
       "description_width": ""
      }
     },
     "f3cf65680ac04a1881b927fd3d08a5e4": {
      "model_module": "@jupyter-widgets/base",
      "model_module_version": "2.0.0",
      "model_name": "LayoutModel",
      "state": {}
     },
     "f460c1bcf708439a9e121b257303302b": {
      "model_module": "@jupyter-widgets/base",
      "model_module_version": "2.0.0",
      "model_name": "LayoutModel",
      "state": {}
     },
     "f6dbce933a404ab0b0c099a9b6302d92": {
      "model_module": "@jupyter-widgets/base",
      "model_module_version": "2.0.0",
      "model_name": "LayoutModel",
      "state": {}
     },
     "f9a9076275f0444c84e6cf6e60c9e9f9": {
      "model_module": "@jupyter-widgets/base",
      "model_module_version": "2.0.0",
      "model_name": "LayoutModel",
      "state": {}
     }
    },
    "version_major": 2,
    "version_minor": 0
   }
  }
 },
 "nbformat": 4,
 "nbformat_minor": 5
}
